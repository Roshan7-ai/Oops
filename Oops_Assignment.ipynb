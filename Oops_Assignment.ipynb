{
  "nbformat": 4,
  "nbformat_minor": 0,
  "metadata": {
    "colab": {
      "provenance": []
    },
    "kernelspec": {
      "name": "python3",
      "display_name": "Python 3"
    },
    "language_info": {
      "name": "python"
    }
  },
  "cells": [
    {
      "cell_type": "markdown",
      "source": [
        "# Question 1"
      ],
      "metadata": {
        "id": "jE1JDtcdpE14"
      }
    },
    {
      "cell_type": "markdown",
      "source": [
        "## What are the five key concepts of Object-Oriented Programming(OOP)?"
      ],
      "metadata": {
        "id": "Qwm4f6_8nSKA"
      }
    },
    {
      "cell_type": "markdown",
      "source": [
        "The five key concepts of Object-Oriented Programming (OOP) in Python are:"
      ],
      "metadata": {
        "id": "BtJ9R8Nrs5L_"
      }
    },
    {
      "cell_type": "markdown",
      "source": [
        "### 1. Class:"
      ],
      "metadata": {
        "id": "c712dqUCs3TM"
      }
    },
    {
      "cell_type": "markdown",
      "source": [
        ">> A blueprint for creating objects (a particular data structure), defining their attributes (data) and behaviors (methods).\n",
        "\n",
        ">> A class encapsulates data and functions that operate on the data."
      ],
      "metadata": {
        "id": "26pG9tFLvdeP"
      }
    },
    {
      "cell_type": "code",
      "source": [
        "# Example for class\n",
        "\n",
        "class Car:\n",
        "    def __init__(self, model, color):\n",
        "        self.model = model\n",
        "        self.color = color"
      ],
      "metadata": {
        "id": "2dKHL_gXz4CQ"
      },
      "execution_count": null,
      "outputs": []
    },
    {
      "cell_type": "markdown",
      "source": [
        "### 2. Object:"
      ],
      "metadata": {
        "id": "uv133DgA0P5G"
      }
    },
    {
      "cell_type": "markdown",
      "source": [
        ">> An instance of a class. When a class is defined, no memory is allocated until an object of that class is created."
      ],
      "metadata": {
        "id": "btH0Tne90XXd"
      }
    },
    {
      "cell_type": "markdown",
      "source": [
        "Example for object\n",
        "\n",
        "my_dog = Dog(\"Buddy\", \"Golden Retriever\")"
      ],
      "metadata": {
        "id": "3gvzZS2C0mpU"
      }
    },
    {
      "cell_type": "markdown",
      "source": [
        "### 3. Encapsulation:"
      ],
      "metadata": {
        "id": "gfIf_omx04gx"
      }
    },
    {
      "cell_type": "markdown",
      "source": [
        ">> The concept of bundling the data (attributes) and methods (functions) that operate on the data within a single unit or class.\n",
        "\n",
        ">> It also restricts access to certain details of an object (using private/protected attributes) to protect the integrity of the data.\n",
        "\n"
      ],
      "metadata": {
        "id": "E8A3rUzVe5e-"
      }
    },
    {
      "cell_type": "code",
      "source": [
        "# Example for Encapsulation\n",
        "\n",
        "class Person:\n",
        "    def __init__(self, name, age):\n",
        "        self.__age = age  # private attribute\n",
        "\n",
        "    def get_age(self):\n",
        "        return self.__age"
      ],
      "metadata": {
        "id": "ZdBiyDW90eTX"
      },
      "execution_count": null,
      "outputs": []
    },
    {
      "cell_type": "markdown",
      "source": [
        "### 4. Inheritance:"
      ],
      "metadata": {
        "id": "Nnp5wvd1fGiY"
      }
    },
    {
      "cell_type": "markdown",
      "source": [
        ">> A mechanism by which one class can inherit properties and methods from another class.\n",
        "\n",
        ">> This allows for code reuse and the creation of hierarchical class relationships.\n"
      ],
      "metadata": {
        "id": "X4CfUL2QgwKe"
      }
    },
    {
      "cell_type": "code",
      "source": [
        "# Example for Inheritance\n",
        "\n",
        "class Animal:\n",
        "    def __init__(self, name):\n",
        "        self.name = name\n",
        "\n",
        "class Cat(Animal):  # Cat inherits from Animal\n",
        "    def speak(self):\n",
        "        return \"Meow!\""
      ],
      "metadata": {
        "id": "QEeRKXJIe-U3"
      },
      "execution_count": null,
      "outputs": []
    },
    {
      "cell_type": "markdown",
      "source": [
        "### 5. Polymorphism:"
      ],
      "metadata": {
        "id": "Ir-NyseOg924"
      }
    },
    {
      "cell_type": "markdown",
      "source": [
        ">> The ability of different classes to be treated as instances of the same class through inheritance.\n",
        "\n",
        ">> It also refers to the ability to define methods in the child class with the same name as in the parent class, but with different functionality.\n",
        "\n"
      ],
      "metadata": {
        "id": "4gPYMramhDyt"
      }
    },
    {
      "cell_type": "code",
      "source": [
        "# Example for Polymorphism\n",
        "\n",
        "class Bird:\n",
        "    def speak(self):\n",
        "        return \"Tweet!\"\n",
        "\n",
        "class Parrot(Bird):\n",
        "    def speak(self):\n",
        "        return \"Squawk!\"\n",
        "\n",
        "def make_sound(bird):\n",
        "    print(bird.speak())\n",
        "\n",
        "make_sound(Bird())   # Output: \"Tweet!\"\n",
        "make_sound(Parrot()) # Output: \"Squawk!\""
      ],
      "metadata": {
        "colab": {
          "base_uri": "https://localhost:8080/"
        },
        "id": "txOq0jbNg2L5",
        "outputId": "b4d0b86b-a38e-4310-ea39-8213f5293d73"
      },
      "execution_count": null,
      "outputs": [
        {
          "output_type": "stream",
          "name": "stdout",
          "text": [
            "Tweet!\n",
            "Squawk!\n"
          ]
        }
      ]
    },
    {
      "cell_type": "markdown",
      "source": [
        ">> These concepts are fundamental in building scalable and maintainable code using OOP principles."
      ],
      "metadata": {
        "id": "jOXPz7fIhWKU"
      }
    },
    {
      "cell_type": "markdown",
      "source": [
        "# Question 2"
      ],
      "metadata": {
        "id": "6UmZqlakhbae"
      }
    },
    {
      "cell_type": "markdown",
      "source": [
        "## Write a Python class for a `Car` with attributes for `make`, `model`, and `year`. Include a method to display the car's information."
      ],
      "metadata": {
        "id": "bgsCa-p7OhsO"
      }
    },
    {
      "cell_type": "code",
      "source": [
        "# Here's a simple Python class for a Car with attributes make, model, and year, along with a method to display the car's information:\n",
        "\n",
        "\n",
        "\n",
        "class Car:\n",
        "    def __init__(self, make, model, year):\n",
        "        self.make = make\n",
        "        self.model = model\n",
        "        self.year = year\n",
        "\n",
        "    def display_info(self):\n",
        "        print(f\"Car Information: {self.year} {self.make} {self.model}\")\n",
        "# Create a Car object\n",
        "my_car = Car('Toyota', 'Corolla', 2021)\n",
        "\n",
        "# Display the car's information\n",
        "my_car.display_info()  # Output : Car Information: 2021 Toyota Corolla"
      ],
      "metadata": {
        "colab": {
          "base_uri": "https://localhost:8080/"
        },
        "id": "aZipMb0RhPOP",
        "outputId": "fe3bf8e7-e335-44e2-ab9a-5d326656b681"
      },
      "execution_count": null,
      "outputs": [
        {
          "output_type": "stream",
          "name": "stdout",
          "text": [
            "Car Information: 2021 Toyota Corolla\n"
          ]
        }
      ]
    },
    {
      "cell_type": "markdown",
      "source": [
        "# Question 3"
      ],
      "metadata": {
        "id": "hU8rnU8wUTWP"
      }
    },
    {
      "cell_type": "markdown",
      "source": [
        "## Explain the difference between instance methods and class methods.Provide an example of each."
      ],
      "metadata": {
        "id": "xdvHhk3MUXZU"
      }
    },
    {
      "cell_type": "markdown",
      "source": [
        ">> In Python, both instance methods and class methods are used to define behavior for classes, but they differ in how they interact with the class and its instances."
      ],
      "metadata": {
        "id": "MluOxkjxUXNQ"
      }
    },
    {
      "cell_type": "markdown",
      "source": [
        "### 1. Instance Methods"
      ],
      "metadata": {
        "id": "gGEnU3ljYsz7"
      }
    },
    {
      "cell_type": "markdown",
      "source": [
        ">> Bound to instances of the class.\n",
        "\n",
        ">> The first parameter of an instance method is always self, which refers to the instance calling the method.\n",
        "\n",
        ">> Instance methods can access and modify instance-specific data (instance attributes), as well as class-level data.\n"
      ],
      "metadata": {
        "id": "yW8UEp02ZIYg"
      }
    },
    {
      "cell_type": "code",
      "source": [
        "# Example for Instance Methods\n",
        "\n",
        "class Dog:\n",
        "    def __init__(self, name):\n",
        "        self.name = name  # Instance attribute\n",
        "\n",
        "    # Instance method\n",
        "    def bark(self):\n",
        "        print(f\"{self.name} says Woof!\")\n",
        "\n",
        "# Creating an instance of Dog\n",
        "my_dog = Dog(\"Buddy\")\n",
        "my_dog.bark()  # Output: Buddy says Woof!"
      ],
      "metadata": {
        "colab": {
          "base_uri": "https://localhost:8080/"
        },
        "id": "6A3XVRysUAI5",
        "outputId": "cbea5dfa-90d1-4525-8bc3-f0aacc4b1db4"
      },
      "execution_count": null,
      "outputs": [
        {
          "output_type": "stream",
          "name": "stdout",
          "text": [
            "Buddy says Woof!\n"
          ]
        }
      ]
    },
    {
      "cell_type": "markdown",
      "source": [
        "### 2. Class Methods"
      ],
      "metadata": {
        "id": "zTBqEv1yZcEq"
      }
    },
    {
      "cell_type": "markdown",
      "source": [
        ">> Bound to the class itself, not instances of the class.\n",
        "\n",
        ">> The first parameter of a class method is always cls, which refers to the class itself (not an instance).\n",
        "\n",
        ">> Defined using the @classmethod decorator.\n",
        "\n",
        ">> Class methods can access and modify class-level data (attributes that are shared by all instances of the class)."
      ],
      "metadata": {
        "id": "X7uONhw9ZmWd"
      }
    },
    {
      "cell_type": "code",
      "source": [
        "# Example for Class method\n",
        "\n",
        "class Dog:\n",
        "    species = \"Canis lupus familiaris\"  # Class attribute\n",
        "\n",
        "    def __init__(self, name):\n",
        "        self.name = name\n",
        "\n",
        "    # Class method\n",
        "    @classmethod\n",
        "    def get_species(cls):\n",
        "        return cls.species\n",
        "\n",
        "# Calling a class method without creating an instance\n",
        "print(Dog.get_species())  # Output: Canis lupus familiaris\n"
      ],
      "metadata": {
        "colab": {
          "base_uri": "https://localhost:8080/"
        },
        "id": "GOp_yFqLZVq7",
        "outputId": "096cce51-ea3d-4496-cefd-8ae287eea5c7"
      },
      "execution_count": null,
      "outputs": [
        {
          "output_type": "stream",
          "name": "stdout",
          "text": [
            "Canis lupus familiaris\n"
          ]
        }
      ]
    },
    {
      "cell_type": "markdown",
      "source": [
        "## Key Differences:"
      ],
      "metadata": {
        "id": "J2QHc-YSZ69p"
      }
    },
    {
      "cell_type": "markdown",
      "source": [
        "### 1. Binding:"
      ],
      "metadata": {
        "id": "ut3v_iHKaD5G"
      }
    },
    {
      "cell_type": "markdown",
      "source": [
        ">> Instance methods are bound to instances (self).\n",
        "\n",
        ">> Class methods are bound to the class (cls).\n"
      ],
      "metadata": {
        "id": "xeGUI-gaaRXX"
      }
    },
    {
      "cell_type": "markdown",
      "source": [
        "### 2. Use Case:"
      ],
      "metadata": {
        "id": "_LgQ6W8aaXtl"
      }
    },
    {
      "cell_type": "markdown",
      "source": [
        ">> Instance methods operate on data specific to an instance.\n",
        "\n",
        ">> Class methods operate on class-level data or behaviors that apply to all instances.\n"
      ],
      "metadata": {
        "id": "8bHPC4bKab62"
      }
    },
    {
      "cell_type": "markdown",
      "source": [
        "### 3. Calling:"
      ],
      "metadata": {
        "id": "AZuGzqw3alTT"
      }
    },
    {
      "cell_type": "markdown",
      "source": [
        ">> Instance methods can be called only by an instance.\n",
        "\n",
        ">> Class methods can be called on the class or an instance, but they don't have access to instance-specific data unless passed explicitly.\n",
        "\n",
        "\n",
        "\n",
        "\n",
        "\n"
      ],
      "metadata": {
        "id": "IPMWGYGAaoxD"
      }
    },
    {
      "cell_type": "markdown",
      "source": [
        "# Question 4"
      ],
      "metadata": {
        "id": "PLVYEYcva6IL"
      }
    },
    {
      "cell_type": "markdown",
      "source": [
        "## How does Python implement method overloading?Give an example."
      ],
      "metadata": {
        "id": "YYN1ayYfa-8T"
      }
    },
    {
      "cell_type": "markdown",
      "source": [
        ">> Python does not natively support method overloading as seen in languages like Java or C++, where you can define multiple methods with the same name but different parameter lists.\n",
        "\n",
        ">> However, Python can mimic method overloading using default parameters or by manually checking types and the number of arguments within a single method.\n",
        "\n",
        ">> Here are some ways you can simulate method overloading:"
      ],
      "metadata": {
        "id": "OXj5PGcieHL6"
      }
    },
    {
      "cell_type": "markdown",
      "source": [
        "### 1. Using Default Arguments"
      ],
      "metadata": {
        "id": "4OwT4o34eN7E"
      }
    },
    {
      "cell_type": "markdown",
      "source": [
        ">> You can use default arguments to handle various scenarios:"
      ],
      "metadata": {
        "id": "8c9Go0igelNm"
      }
    },
    {
      "cell_type": "code",
      "source": [
        "class Example:\n",
        "    def add(self, a=0, b=0, c=0):\n",
        "        return a + b + c\n",
        "\n",
        "obj = Example()\n",
        "print(obj.add(5))        # One argument\n",
        "print(obj.add(5, 10))    # Two arguments\n",
        "print(obj.add(5, 10, 15)) # Three arguments\n"
      ],
      "metadata": {
        "colab": {
          "base_uri": "https://localhost:8080/"
        },
        "id": "JBlGcSudZywc",
        "outputId": "cc68b747-658a-4fda-9ad4-9c235766aed6"
      },
      "execution_count": null,
      "outputs": [
        {
          "output_type": "stream",
          "name": "stdout",
          "text": [
            "5\n",
            "15\n",
            "30\n"
          ]
        }
      ]
    },
    {
      "cell_type": "markdown",
      "source": [
        "### 2. Using Variable-Length Arguments"
      ],
      "metadata": {
        "id": "iKeP1kL_eqa8"
      }
    },
    {
      "cell_type": "markdown",
      "source": [
        ">> You can use *args or **kwargs to accept an arbitrary number of arguments."
      ],
      "metadata": {
        "id": "AnGMkVJvewLp"
      }
    },
    {
      "cell_type": "code",
      "source": [
        "class Example:\n",
        "    def add(self, *args):\n",
        "        return sum(args)\n",
        "\n",
        "obj = Example()\n",
        "print(obj.add(5))          # One argument\n",
        "print(obj.add(5, 10))      # Two arguments\n",
        "print(obj.add(5, 10, 15))  # Three arguments\n"
      ],
      "metadata": {
        "colab": {
          "base_uri": "https://localhost:8080/"
        },
        "id": "-ziX16Z8eoln",
        "outputId": "4203705a-47d7-40ed-be14-57052eb585b6"
      },
      "execution_count": null,
      "outputs": [
        {
          "output_type": "stream",
          "name": "stdout",
          "text": [
            "5\n",
            "15\n",
            "30\n"
          ]
        }
      ]
    },
    {
      "cell_type": "markdown",
      "source": [
        "### 3. Checking Argument Types at Runtime"
      ],
      "metadata": {
        "id": "CM8-mNije2Qo"
      }
    },
    {
      "cell_type": "markdown",
      "source": [
        ">> You can check argument types manually to vary behavior based on the types of the inputs:"
      ],
      "metadata": {
        "id": "RQ0_n910e85I"
      }
    },
    {
      "cell_type": "code",
      "source": [
        "class Example:\n",
        "    def add(self, a, b=None):\n",
        "        if b is None:  # Single argument\n",
        "            return a\n",
        "        elif isinstance(a, str) and isinstance(b, str):  # Two strings\n",
        "            return a + b\n",
        "        else:  # Two numbers\n",
        "            return a + b\n",
        "\n",
        "obj = Example()\n",
        "print(obj.add(5))         # Single argument\n",
        "print(obj.add(5, 10))     # Two numbers\n",
        "print(obj.add(\"Hello, \", \"World!\"))  # Two strings\n"
      ],
      "metadata": {
        "colab": {
          "base_uri": "https://localhost:8080/"
        },
        "id": "yGlRo24_ezBZ",
        "outputId": "00f79439-84d6-45a3-e3d1-b04a570c064f"
      },
      "execution_count": null,
      "outputs": [
        {
          "output_type": "stream",
          "name": "stdout",
          "text": [
            "5\n",
            "15\n",
            "Hello, World!\n"
          ]
        }
      ]
    },
    {
      "cell_type": "markdown",
      "source": [
        ">> In the third example, the method can behave differently based on the type and number of arguments passed.\n",
        "\n",
        ">> While Python doesn't support true method overloading, these strategies give flexibility to handle multiple cases within a single method."
      ],
      "metadata": {
        "id": "fIllpXzofEOo"
      }
    },
    {
      "cell_type": "markdown",
      "source": [
        "# Question 5"
      ],
      "metadata": {
        "id": "TLp4XcuifJX3"
      }
    },
    {
      "cell_type": "markdown",
      "source": [
        "## What are the three types of access modifiers in Python? How are they denoted?"
      ],
      "metadata": {
        "id": "ST9UvrcXfN6u"
      }
    },
    {
      "cell_type": "markdown",
      "source": [
        ">> In Python, access modifiers control the visibility or accessibility of class attributes and methods.\n",
        "\n",
        ">> Python has three types of access modifiers:"
      ],
      "metadata": {
        "id": "GyJ0bzMuqDwG"
      }
    },
    {
      "cell_type": "markdown",
      "source": [
        "### 1. Public"
      ],
      "metadata": {
        "id": "BiEJHcjCqITd"
      }
    },
    {
      "cell_type": "markdown",
      "source": [
        ">> Denotation: No special prefix, just the name of the attribute or method.\n",
        "\n",
        ">> Description: Public members are accessible from anywhere, both inside and outside the class. By default, all attributes and methods in Python are public."
      ],
      "metadata": {
        "id": "V9gfYscRqK3y"
      }
    },
    {
      "cell_type": "code",
      "source": [
        "# Example for Public\n",
        "\n",
        "class MyClass:\n",
        "    def __init__(self):\n",
        "        self.public_var = \"I am public\"\n",
        "\n",
        "obj = MyClass()\n",
        "print(obj.public_var)  # Accessible from outside\n"
      ],
      "metadata": {
        "colab": {
          "base_uri": "https://localhost:8080/"
        },
        "id": "c0NsJYmvfAHm",
        "outputId": "449a7eb4-ec8c-4236-b360-ce083da93cab"
      },
      "execution_count": null,
      "outputs": [
        {
          "output_type": "stream",
          "name": "stdout",
          "text": [
            "I am public\n"
          ]
        }
      ]
    },
    {
      "cell_type": "markdown",
      "source": [
        "### 2. Protected"
      ],
      "metadata": {
        "id": "2AGJLIjBqcqR"
      }
    },
    {
      "cell_type": "markdown",
      "source": [
        ">> Denotation: A single underscore (_) prefix before the attribute or method name.\n",
        "\n",
        ">> Description: Protected members can be accessed within the class and its subclasses. Though they are not truly private, this is more of a convention (as Python does not enforce strict access rules). It indicates that the member is intended for internal use.\n"
      ],
      "metadata": {
        "id": "M9hbqwfaqiDs"
      }
    },
    {
      "cell_type": "code",
      "source": [
        "# Example for Protected\n",
        "\n",
        "class MyClass:\n",
        "    def __init__(self):\n",
        "        self._protected_var = \"I am protected\"\n",
        "\n",
        "class SubClass(MyClass):\n",
        "    def access_protected(self):\n",
        "        return self._protected_var\n",
        "\n",
        "obj = SubClass()\n",
        "print(obj.access_protected())  # Accessible within subclass\n"
      ],
      "metadata": {
        "colab": {
          "base_uri": "https://localhost:8080/"
        },
        "id": "h-Z7UI4yqaKv",
        "outputId": "8a4baa63-8189-4bb3-a8e7-b0cbda50e6a2"
      },
      "execution_count": null,
      "outputs": [
        {
          "output_type": "stream",
          "name": "stdout",
          "text": [
            "I am protected\n"
          ]
        }
      ]
    },
    {
      "cell_type": "markdown",
      "source": [
        "### 3. Private"
      ],
      "metadata": {
        "id": "hye-etuNqvw1"
      }
    },
    {
      "cell_type": "markdown",
      "source": [
        ">> Denotation: A double underscore (__) prefix before the attribute or method name.\n",
        "\n",
        ">> Description: Private members are only accessible within the class they are defined in. Python performs name mangling to make private members harder to access from outside the class, though they can still be accessed indirectly.\n"
      ],
      "metadata": {
        "id": "T1ygUD8PqyeP"
      }
    },
    {
      "cell_type": "code",
      "source": [
        "# Example for Private\n",
        "\n",
        "class MyClass:\n",
        "    def __init__(self):\n",
        "        self.__private_var = \"I am private\"\n",
        "\n",
        "    def access_private(self):\n",
        "        return self.__private_var\n",
        "\n",
        "obj = MyClass()\n",
        "# print(obj.__private_var)  # This would raise an AttributeError\n",
        "print(obj.access_private())  # Accessing via a method\n"
      ],
      "metadata": {
        "colab": {
          "base_uri": "https://localhost:8080/"
        },
        "id": "MEAf8NvRq7oy",
        "outputId": "2b1c26ed-54a6-4296-efc6-8d6b752201c7"
      },
      "execution_count": null,
      "outputs": [
        {
          "output_type": "stream",
          "name": "stdout",
          "text": [
            "I am private\n"
          ]
        }
      ]
    },
    {
      "cell_type": "markdown",
      "source": [
        "### In summary:"
      ],
      "metadata": {
        "id": "01rI38_6rDYL"
      }
    },
    {
      "cell_type": "markdown",
      "source": [
        ">> Public: No underscore (fully accessible).\n",
        "\n",
        ">> Protected: Single underscore (_, accessible in class and subclass).\n",
        "\n",
        ">> Private: Double underscore (__, accessible only within the class)."
      ],
      "metadata": {
        "id": "rnfETxODrK_p"
      }
    },
    {
      "cell_type": "markdown",
      "source": [
        "# Question 6"
      ],
      "metadata": {
        "id": "WG1onDE-rX5k"
      }
    },
    {
      "cell_type": "markdown",
      "source": [
        "## Describe the five types of inheritance in Python.Provide a simple example of multiple inheritance."
      ],
      "metadata": {
        "id": "WyRdrGqJrdJz"
      }
    },
    {
      "cell_type": "markdown",
      "source": [
        ">> In Python, inheritance is a mechanism where a new class (derived class) can inherit attributes and methods from another class (base class).\n",
        "\n",
        ">> Here are the five types of inheritance in Python:\n",
        "\n"
      ],
      "metadata": {
        "id": "6ZEexlkHAwl5"
      }
    },
    {
      "cell_type": "markdown",
      "source": [
        "### 1. Single Inheritance:"
      ],
      "metadata": {
        "id": "J2bgzTV2BlFv"
      }
    },
    {
      "cell_type": "markdown",
      "source": [
        ">> In single inheritance, a derived class inherits from a single base class.\n",
        "\n",
        ">> This means there is only one parent class and one child class."
      ],
      "metadata": {
        "id": "R8nFSNztBoFG"
      }
    },
    {
      "cell_type": "code",
      "source": [
        "# Example for Single Inheritance\n",
        "\n",
        "class Animal:\n",
        "    def speak(self):\n",
        "        print(\"Animal speaks\")\n",
        "\n",
        "class Dog(Animal):\n",
        "    def bark(self):\n",
        "        print(\"Dog barks\")\n",
        "\n",
        "dog = Dog()\n",
        "dog.speak()  # Inherited from Animal class\n",
        "dog.bark()   # Defined in Dog class\n"
      ],
      "metadata": {
        "id": "UeRO7D5Kq_G7",
        "colab": {
          "base_uri": "https://localhost:8080/"
        },
        "outputId": "7a07e6ef-2945-47f2-d8bf-9b3a3882f050"
      },
      "execution_count": null,
      "outputs": [
        {
          "output_type": "stream",
          "name": "stdout",
          "text": [
            "Animal speaks\n",
            "Dog barks\n"
          ]
        }
      ]
    },
    {
      "cell_type": "markdown",
      "source": [
        "### 2. Multiple Inheritance:"
      ],
      "metadata": {
        "id": "PELtsSJsakif"
      }
    },
    {
      "cell_type": "markdown",
      "source": [
        ">> In multiple inheritance, a class can inherit from more than one base class.\n",
        "\n",
        ">> This allows the derived class to access attributes and methods of multiple base classes.\n",
        "\n"
      ],
      "metadata": {
        "id": "rzo6Ej1CarFx"
      }
    },
    {
      "cell_type": "code",
      "source": [
        "# Example for Multiple Inheritance\n",
        "\n",
        "class Father:\n",
        "    def show_father(self):\n",
        "        print(\"Father\")\n",
        "\n",
        "class Mother:\n",
        "    def show_mother(self):\n",
        "        print(\"Mother\")\n",
        "\n",
        "class Child(Father, Mother):\n",
        "    def show_child(self):\n",
        "        print(\"Child\")\n",
        "\n",
        "child = Child()\n",
        "child.show_father()  # From Father class\n",
        "child.show_mother()  # From Mother class\n",
        "child.show_child()   # From Child class\n"
      ],
      "metadata": {
        "colab": {
          "base_uri": "https://localhost:8080/"
        },
        "id": "c9onPIl0Bzqx",
        "outputId": "b8e0c533-1631-43b4-a280-9a943358b90e"
      },
      "execution_count": null,
      "outputs": [
        {
          "output_type": "stream",
          "name": "stdout",
          "text": [
            "Father\n",
            "Mother\n",
            "Child\n"
          ]
        }
      ]
    },
    {
      "cell_type": "markdown",
      "source": [
        "### 3. Multilevel Inheritance:"
      ],
      "metadata": {
        "id": "nRTs-KtAa7bL"
      }
    },
    {
      "cell_type": "markdown",
      "source": [
        ">> In multilevel inheritance, a class is derived from another derived class.\n",
        "\n",
        ">> This means a class can inherit from a class that has already inherited from another class, forming a chain of inheritance.\n",
        "\n"
      ],
      "metadata": {
        "id": "bPIpxl1Ja-9Y"
      }
    },
    {
      "cell_type": "code",
      "source": [
        "# Example for Multilevel Inheritance\n",
        "\n",
        "class Animal:\n",
        "    def speak(self):\n",
        "        print(\"Animal speaks\")\n",
        "\n",
        "class Dog(Animal):\n",
        "    def bark(self):\n",
        "        print(\"Dog barks\")\n",
        "\n",
        "class Puppy(Dog):\n",
        "    def weep(self):\n",
        "        print(\"Puppy weeps\")\n",
        "\n",
        "puppy = Puppy()\n",
        "puppy.speak()  # Inherited from Animal\n",
        "puppy.bark()   # Inherited from Dog\n",
        "puppy.weep()   # Defined in Puppy\n"
      ],
      "metadata": {
        "colab": {
          "base_uri": "https://localhost:8080/"
        },
        "id": "Ln1TLQGxa3_b",
        "outputId": "5200de04-cd23-4d8d-d197-76637c00780a"
      },
      "execution_count": null,
      "outputs": [
        {
          "output_type": "stream",
          "name": "stdout",
          "text": [
            "Animal speaks\n",
            "Dog barks\n",
            "Puppy weeps\n"
          ]
        }
      ]
    },
    {
      "cell_type": "markdown",
      "source": [
        "### 4. Hierarchical Inheritance:"
      ],
      "metadata": {
        "id": "VYCO2PAKbTc1"
      }
    },
    {
      "cell_type": "markdown",
      "source": [
        ">> In hierarchical inheritance, multiple derived classes inherit from a single base class.\n",
        "\n",
        ">> Each derived class inherits the properties of the base class."
      ],
      "metadata": {
        "id": "ZPr-5C2TbXMD"
      }
    },
    {
      "cell_type": "code",
      "source": [
        "# Example for Hierarchical Inheritance\n",
        "\n",
        "class Animal:\n",
        "    def speak(self):\n",
        "        print(\"Animal speaks\")\n",
        "\n",
        "class Dog(Animal):\n",
        "    def bark(self):\n",
        "        print(\"Dog barks\")\n",
        "\n",
        "class Cat(Animal):\n",
        "    def meow(self):\n",
        "        print(\"Cat meows\")\n",
        "\n",
        "dog = Dog()\n",
        "dog.speak()  # Inherited from Animal\n",
        "dog.bark()   # Defined in Dog\n",
        "\n",
        "cat = Cat()\n",
        "cat.speak()  # Inherited from Animal\n",
        "cat.meow()   # Defined in Cat\n"
      ],
      "metadata": {
        "colab": {
          "base_uri": "https://localhost:8080/"
        },
        "id": "Hlc-Q6cXbL5J",
        "outputId": "2d17730d-f7ba-49e1-d12f-74ec860f6fbf"
      },
      "execution_count": null,
      "outputs": [
        {
          "output_type": "stream",
          "name": "stdout",
          "text": [
            "Animal speaks\n",
            "Dog barks\n",
            "Animal speaks\n",
            "Cat meows\n"
          ]
        }
      ]
    },
    {
      "cell_type": "markdown",
      "source": [
        "### 5. Hybrid Inheritance:"
      ],
      "metadata": {
        "id": "5s1Pg3KybrjO"
      }
    },
    {
      "cell_type": "markdown",
      "source": [
        ">> Hybrid inheritance is a combination of more than one type of inheritance.\n",
        "\n",
        ">> It could include any mixture of single, multiple, hierarchical, or multilevel inheritance.\n",
        "\n"
      ],
      "metadata": {
        "id": "odDdeL2bbu8P"
      }
    },
    {
      "cell_type": "code",
      "source": [
        "# Example for Hybrid Inheritance\n",
        "\n",
        "class Animal:\n",
        "    def speak(self):\n",
        "        print(\"Animal speaks\")\n",
        "\n",
        "class Dog(Animal):\n",
        "    def bark(self):\n",
        "        print(\"Dog barks\")\n",
        "\n",
        "class Bird(Animal):\n",
        "    def fly(self):\n",
        "        print(\"Bird flies\")\n",
        "\n",
        "class FlyingDog(Dog, Bird):  # Combination of Multiple and Multilevel Inheritance\n",
        "    def fly_and_bark(self):\n",
        "        print(\"Flying dog can fly and bark\")\n",
        "\n",
        "flying_dog = FlyingDog()\n",
        "flying_dog.speak()   # From Animal\n",
        "flying_dog.bark()    # From Dog\n",
        "flying_dog.fly()     # From Bird\n",
        "flying_dog.fly_and_bark()  # From FlyingDog\n"
      ],
      "metadata": {
        "colab": {
          "base_uri": "https://localhost:8080/"
        },
        "id": "FUFogK5-bk_H",
        "outputId": "a8dfe900-e430-4cfb-dae2-48aa8d7be037"
      },
      "execution_count": null,
      "outputs": [
        {
          "output_type": "stream",
          "name": "stdout",
          "text": [
            "Animal speaks\n",
            "Dog barks\n",
            "Bird flies\n",
            "Flying dog can fly and bark\n"
          ]
        }
      ]
    },
    {
      "cell_type": "markdown",
      "source": [
        ">> In this example of multiple inheritance, the class Child inherits from both Father and Mother, allowing it to access methods from both base classes."
      ],
      "metadata": {
        "id": "th51xviVcAMX"
      }
    },
    {
      "cell_type": "markdown",
      "source": [
        "# Question 7"
      ],
      "metadata": {
        "id": "t2QeHC5tcTts"
      }
    },
    {
      "cell_type": "markdown",
      "source": [
        "## What is the Method Resolution Order(MRO) in Python? How can you retrieve it programmatically?"
      ],
      "metadata": {
        "id": "qGps7yf0cXJH"
      }
    },
    {
      "cell_type": "markdown",
      "source": [
        "### Method Resolution Order (MRO) in Python:"
      ],
      "metadata": {
        "id": "GM7EkZOpj5f0"
      }
    },
    {
      "cell_type": "markdown",
      "source": [
        ">> The Method Resolution Order (MRO) in Python defines the order in which base classes are searched when executing a method.\n",
        "\n",
        ">> When you call a method on an instance of a class, Python looks for the method in the class itself first, and then proceeds to its parent classes based on the MRO.\n",
        "\n",
        ">> Python uses the C3 Linearization algorithm (also called C3 superclass linearization) to determine the MRO in case of multiple inheritance.\n",
        "\n",
        "It ensures that:\n",
        "\n",
        ">> 1. Local precedence order: A class is checked before its parents.\n",
        "\n",
        ">> 2. Monotonicity: The MRO maintains a consistent order, meaning that if one class comes before another, that order is preserved.\n",
        "\n",
        ">> 3. Preserving the order of inheritance: Classes are checked in the order they are inherited.\n"
      ],
      "metadata": {
        "id": "m4KAVZOVjbnj"
      }
    },
    {
      "cell_type": "markdown",
      "source": [
        "### Example of MRO in a Multiple Inheritance Scenario:"
      ],
      "metadata": {
        "id": "OBoY1LZGj7k-"
      }
    },
    {
      "cell_type": "code",
      "source": [
        "class A:\n",
        "    def show(self):\n",
        "        print(\"A\")\n",
        "\n",
        "class B(A):\n",
        "    def show(self):\n",
        "        print(\"B\")\n",
        "\n",
        "class C(A):\n",
        "    def show(self):\n",
        "        print(\"C\")\n",
        "\n",
        "class D(B, C):\n",
        "    pass\n",
        "\n",
        "d = D()\n",
        "d.show()  # Output: B\n"
      ],
      "metadata": {
        "colab": {
          "base_uri": "https://localhost:8080/"
        },
        "id": "OuFJAZowb7p6",
        "outputId": "812394ef-391b-4477-a8f1-f1c0bc6c88d3"
      },
      "execution_count": null,
      "outputs": [
        {
          "output_type": "stream",
          "name": "stdout",
          "text": [
            "B\n"
          ]
        }
      ]
    },
    {
      "cell_type": "markdown",
      "source": [
        ">> Here, the MRO for class D is D -> B -> C -> A."
      ],
      "metadata": {
        "id": "Qs7vQseXkEih"
      }
    },
    {
      "cell_type": "markdown",
      "source": [
        "### How to Retrieve the MRO Programmatically:"
      ],
      "metadata": {
        "id": "NsWhHi-9kJwU"
      }
    },
    {
      "cell_type": "markdown",
      "source": [
        ">> You can retrieve the MRO using:\n",
        "\n",
        ">> 1. __mro__ attribute: It returns a tuple of classes.\n",
        "\n",
        ">> 2. mro() method: It returns a list of classes."
      ],
      "metadata": {
        "id": "hl-FJ3llkMd7"
      }
    },
    {
      "cell_type": "markdown",
      "source": [
        "### Example"
      ],
      "metadata": {
        "id": "lFngzv_ekYiz"
      }
    },
    {
      "cell_type": "code",
      "source": [
        "# Using __mro__ attribute\n",
        "print(D.__mro__)\n",
        "\n",
        "# Using mro() method\n",
        "print(D.mro())\n"
      ],
      "metadata": {
        "colab": {
          "base_uri": "https://localhost:8080/"
        },
        "id": "yAUwdCpskBUy",
        "outputId": "86857c09-28d9-4319-f461-0a04556444b9"
      },
      "execution_count": null,
      "outputs": [
        {
          "output_type": "stream",
          "name": "stdout",
          "text": [
            "(<class '__main__.D'>, <class '__main__.B'>, <class '__main__.C'>, <class '__main__.A'>, <class 'object'>)\n",
            "[<class '__main__.D'>, <class '__main__.B'>, <class '__main__.C'>, <class '__main__.A'>, <class 'object'>]\n"
          ]
        }
      ]
    },
    {
      "cell_type": "markdown",
      "source": [
        ">> This shows the MRO for class D, which Python uses to resolve method calls."
      ],
      "metadata": {
        "id": "T3uxcXk2kcio"
      }
    },
    {
      "cell_type": "markdown",
      "source": [
        "# Question 8"
      ],
      "metadata": {
        "id": "OKhw0QrAlnlq"
      }
    },
    {
      "cell_type": "markdown",
      "source": [
        "## Create an abstract base class `Shape` with an abstract method `area()`. Then create two subclasses `Circle` and `Rectangle` that implement the `area()` method."
      ],
      "metadata": {
        "id": "OdpQy6v0lugK"
      }
    },
    {
      "cell_type": "markdown",
      "source": [
        ">> Here’s how you can create an abstract base class Shape with an abstract method area(), and two subclasses Circle and Rectangle that implement the area() method:"
      ],
      "metadata": {
        "id": "ZfHh-8R_oTA7"
      }
    },
    {
      "cell_type": "code",
      "source": [
        "from abc import ABC, abstractmethod\n",
        "import math\n",
        "\n",
        "# Abstract base class\n",
        "class Shape(ABC):\n",
        "\n",
        "    @abstractmethod\n",
        "    def area(self):\n",
        "        pass\n",
        "\n",
        "# Subclass for Circle\n",
        "class Circle(Shape):\n",
        "\n",
        "    def __init__(self, radius):\n",
        "        self.radius = radius\n",
        "\n",
        "    def area(self):\n",
        "        return math.pi * self.radius ** 2\n",
        "\n",
        "# Subclass for Rectangle\n",
        "class Rectangle(Shape):\n",
        "\n",
        "    def __init__(self, width, height):\n",
        "        self.width = width\n",
        "        self.height = height\n",
        "\n",
        "    def area(self):\n",
        "        return self.width * self.height\n",
        "\n",
        "# Example usage\n",
        "circle = Circle(5)\n",
        "rectangle = Rectangle(4, 6)\n",
        "\n",
        "print(f\"Area of the circle: {circle.area()}\")\n",
        "print(f\"Area of the rectangle: {rectangle.area()}\")\n"
      ],
      "metadata": {
        "id": "oF6TK7MCkVSG",
        "colab": {
          "base_uri": "https://localhost:8080/"
        },
        "outputId": "650c2005-cd24-46d9-9e0a-6bf99dd6a94a"
      },
      "execution_count": null,
      "outputs": [
        {
          "output_type": "stream",
          "name": "stdout",
          "text": [
            "Area of the circle: 78.53981633974483\n",
            "Area of the rectangle: 24\n"
          ]
        }
      ]
    },
    {
      "cell_type": "markdown",
      "source": [
        "### Explanation:"
      ],
      "metadata": {
        "id": "Z0CB9luwolml"
      }
    },
    {
      "cell_type": "markdown",
      "source": [
        ">> The Shape class is an abstract base class, and it uses the @abstractmethod decorator to define the area() method, which must be implemented by any subclass.\n",
        "\n",
        ">> The Circle class takes the radius as a parameter and calculates the area using the formula πr².\n",
        "\n",
        ">> The Rectangle class takes width and height as parameters and calculates the area using the formula width * height."
      ],
      "metadata": {
        "id": "XjcIb5EKooUw"
      }
    },
    {
      "cell_type": "markdown",
      "source": [
        "# Question 9"
      ],
      "metadata": {
        "id": "Vq84YLCHovbb"
      }
    },
    {
      "cell_type": "markdown",
      "source": [
        "## Demonstrate polymorphism by creating a function that can work with different shape objects to calculate and print their areas."
      ],
      "metadata": {
        "id": "ANBi00gcoxja"
      }
    },
    {
      "cell_type": "markdown",
      "source": [
        ">> Polymorphism allows objects of different classes to be treated through a common interface.\n",
        "\n",
        ">> Here's an example of how polymorphism can be demonstrated with different shape objects (e.g., Circle, Rectangle, and Triangle) to calculate their areas.\n",
        "\n"
      ],
      "metadata": {
        "id": "jyynHwANqRkL"
      }
    },
    {
      "cell_type": "markdown",
      "source": [
        "### Python Code Example:"
      ],
      "metadata": {
        "id": "8aKTZhnIqWV-"
      }
    },
    {
      "cell_type": "code",
      "source": [
        "import math\n",
        "\n",
        "# Base class Shape (optional, but useful for structure)\n",
        "class Shape:\n",
        "    def area(self):\n",
        "        pass\n",
        "\n",
        "# Circle class\n",
        "class Circle(Shape):\n",
        "    def __init__(self, radius):\n",
        "        self.radius = radius\n",
        "\n",
        "    def area(self):\n",
        "        return math.pi * self.radius ** 2\n",
        "\n",
        "# Rectangle class\n",
        "class Rectangle(Shape):\n",
        "    def __init__(self, width, height):\n",
        "        self.width = width\n",
        "        self.height = height\n",
        "\n",
        "    def area(self):\n",
        "        return self.width * self.height\n",
        "\n",
        "# Triangle class\n",
        "class Triangle(Shape):\n",
        "    def __init__(self, base, height):\n",
        "        self.base = base\n",
        "        self.height = height\n",
        "\n",
        "    def area(self):\n",
        "        return 0.5 * self.base * self.height\n",
        "\n",
        "# Function to calculate and print area (demonstrates polymorphism)\n",
        "def print_area(shape):\n",
        "    print(f\"The area of the {shape.__class__.__name__} is {shape.area()}\")\n",
        "\n",
        "# Create instances of each shape\n",
        "circle = Circle(5)\n",
        "rectangle = Rectangle(4, 6)\n",
        "triangle = Triangle(3, 7)\n",
        "\n",
        "# Call the function with different shape objects\n",
        "print_area(circle)\n",
        "print_area(rectangle)\n",
        "print_area(triangle)\n"
      ],
      "metadata": {
        "colab": {
          "base_uri": "https://localhost:8080/"
        },
        "id": "JrTvQn-uoipE",
        "outputId": "6e449f2f-3fb3-4a46-b32c-efca6e08539e"
      },
      "execution_count": null,
      "outputs": [
        {
          "output_type": "stream",
          "name": "stdout",
          "text": [
            "The area of the Circle is 78.53981633974483\n",
            "The area of the Rectangle is 24\n",
            "The area of the Triangle is 10.5\n"
          ]
        }
      ]
    },
    {
      "cell_type": "markdown",
      "source": [
        "### Explanation:"
      ],
      "metadata": {
        "id": "I8TT4IZlqe0R"
      }
    },
    {
      "cell_type": "markdown",
      "source": [
        ">> The print_area function accepts any object of a class that has the area method, making it polymorphic.\n",
        "\n",
        ">> Each shape class (Circle, Rectangle, Triangle) has its own area method, but print_area can handle any of them, demonstrating polymorphism in action."
      ],
      "metadata": {
        "id": "JxJLS8g8qjOz"
      }
    },
    {
      "cell_type": "markdown",
      "source": [
        "# Question 10"
      ],
      "metadata": {
        "id": "0CVvsrlvqp8g"
      }
    },
    {
      "cell_type": "markdown",
      "source": [
        "## Implement encapsulation in a `BankAccount` class with private attributes for `balance` and `account_number`. Include methods for deposit, withdrawal, and balance inquiry."
      ],
      "metadata": {
        "id": "XR9EuxhorFlx"
      }
    },
    {
      "cell_type": "markdown",
      "source": [
        ">> Here's how you can implement encapsulation in a BankAccount class with private attributes for balance and account_number, and include methods for depositing, withdrawing, and checking the balance:"
      ],
      "metadata": {
        "id": "Tsekx5B4svyB"
      }
    },
    {
      "cell_type": "code",
      "source": [
        "class BankAccount:\n",
        "    def __init__(self, account_number, initial_balance=0):\n",
        "        # Private attributes\n",
        "        self.__account_number = account_number\n",
        "        self.__balance = initial_balance\n",
        "\n",
        "    # Public method for depositing money\n",
        "    def deposit(self, amount):\n",
        "        if amount > 0:\n",
        "            self.__balance += amount\n",
        "            print(f\"Deposited ${amount}. New balance: ${self.__balance}\")\n",
        "        else:\n",
        "            print(\"Deposit amount must be positive.\")\n",
        "\n",
        "    # Public method for withdrawing money\n",
        "    def withdraw(self, amount):\n",
        "        if amount > 0:\n",
        "            if amount <= self.__balance:\n",
        "                self.__balance -= amount\n",
        "                print(f\"Withdrew ${amount}. New balance: ${self.__balance}\")\n",
        "            else:\n",
        "                print(\"Insufficient balance.\")\n",
        "        else:\n",
        "            print(\"Withdrawal amount must be positive.\")\n",
        "\n",
        "    # Public method to check the balance\n",
        "    def check_balance(self):\n",
        "        return f\"Your balance is ${self.__balance}\"\n",
        "\n",
        "    # Public method to get the account number\n",
        "    def get_account_number(self):\n",
        "        return self.__account_number\n",
        "\n",
        "# Example usage:\n",
        "account = BankAccount(\"12345678\", 1000)\n",
        "print(account.check_balance())  # Check balance\n",
        "account.deposit(500)            # Deposit money\n",
        "account.withdraw(200)           # Withdraw money\n",
        "print(account.get_account_number())  # Get account number\n"
      ],
      "metadata": {
        "colab": {
          "base_uri": "https://localhost:8080/"
        },
        "id": "c_yKeJF3qb3J",
        "outputId": "32914642-36fb-42c5-be67-b178dfc6d2f8"
      },
      "execution_count": null,
      "outputs": [
        {
          "output_type": "stream",
          "name": "stdout",
          "text": [
            "Your balance is $1000\n",
            "Deposited $500. New balance: $1500\n",
            "Withdrew $200. New balance: $1300\n",
            "12345678\n"
          ]
        }
      ]
    },
    {
      "cell_type": "markdown",
      "source": [
        "### Key Features:"
      ],
      "metadata": {
        "id": "su-G77DRs5UY"
      }
    },
    {
      "cell_type": "markdown",
      "source": [
        ">> Private Attributes: __balance and __account_number are private and not directly accessible from outside the class.\n",
        "\n",
        ">> Encapsulation: Methods like deposit, withdraw, and check_balance manage access to private attributes.\n",
        "\n",
        ">> Public Interface: The methods provide a controlled way to interact with the BankAccount class."
      ],
      "metadata": {
        "id": "0Z4wayv0tAiV"
      }
    },
    {
      "cell_type": "markdown",
      "source": [
        "# Question 11"
      ],
      "metadata": {
        "id": "bq9bQU9gtcBf"
      }
    },
    {
      "cell_type": "markdown",
      "source": [
        "## Write a class that overrides the `__str__` and `__add__` magic methods. What will these methods allow you to do?"
      ],
      "metadata": {
        "id": "wqxIdkzmuAu7"
      }
    },
    {
      "cell_type": "markdown",
      "source": [
        ">> Here’s a simple Python class that overrides the __str__ and __add__ magic methods, along with an explanation of what these methods enable.\n",
        "\n"
      ],
      "metadata": {
        "id": "m5FmNahtvY22"
      }
    },
    {
      "cell_type": "code",
      "source": [
        "class CustomNumber:\n",
        "    def __init__(self, value):\n",
        "        self.value = value\n",
        "\n",
        "    # Overriding __str__\n",
        "    def __str__(self):\n",
        "        return f\"CustomNumber({self.value})\"\n",
        "\n",
        "    # Overriding __add__\n",
        "    def __add__(self, other):\n",
        "        if isinstance(other, CustomNumber):\n",
        "            return CustomNumber(self.value + other.value)\n",
        "        else:\n",
        "            return CustomNumber(self.value + other)\n",
        "\n",
        "# Example usage\n",
        "num1 = CustomNumber(10)\n",
        "num2 = CustomNumber(5)\n",
        "\n",
        "# Using the overridden __str__ method\n",
        "print(num1)  # Output: CustomNumber(10)\n",
        "\n",
        "# Using the overridden __add__ method\n",
        "num3 = num1 + num2\n",
        "print(num3)  # Output: CustomNumber(15)\n",
        "\n",
        "# You can also add CustomNumber to an integer\n",
        "num4 = num1 + 3\n",
        "print(num4)  # Output: CustomNumber(13)\n"
      ],
      "metadata": {
        "colab": {
          "base_uri": "https://localhost:8080/"
        },
        "id": "RTKSWEI9s0hl",
        "outputId": "ea80fa23-3fc2-479c-a771-40ed3ea01269"
      },
      "execution_count": null,
      "outputs": [
        {
          "output_type": "stream",
          "name": "stdout",
          "text": [
            "CustomNumber(10)\n",
            "CustomNumber(15)\n",
            "CustomNumber(13)\n"
          ]
        }
      ]
    },
    {
      "cell_type": "markdown",
      "source": [
        "### Explanation of Magic Methods:"
      ],
      "metadata": {
        "id": "hALL0h-PviTz"
      }
    },
    {
      "cell_type": "markdown",
      "source": [
        "1. __str__ method:\n",
        "\n",
        ">> The __str__ method is used to define the string representation of an object. When you call print() on an object or convert it to a string with str(), this method is invoked. It allows you to control what is displayed when the object is printed or viewed as a string.\n",
        "\n",
        "2. __add__ method:\n",
        "\n",
        ">> The __add__ method is called when you use the + operator with instances of the class. By overriding this method, you can define how two instances of the class should be added together (or how the object interacts with other data types like integers, as shown in the example).\n",
        "\n"
      ],
      "metadata": {
        "id": "pw34BssAvm4Q"
      }
    },
    {
      "cell_type": "markdown",
      "source": [
        "\n",
        ">> Together, these methods enable more natural interaction with objects of the class. The __str__ makes them easier to inspect, while __add__ allows custom behavior for addition with other objects or values."
      ],
      "metadata": {
        "id": "04h8CHoMwb3q"
      }
    },
    {
      "cell_type": "markdown",
      "source": [
        "# Question 12"
      ],
      "metadata": {
        "id": "3-6BQkFBweow"
      }
    },
    {
      "cell_type": "markdown",
      "source": [
        "## Create a decorator that measures and prints the execution time of a function."
      ],
      "metadata": {
        "id": "6B1pdGP3wmYX"
      }
    },
    {
      "cell_type": "markdown",
      "source": [
        ">> You can create a simple decorator to measure and print the execution time of a function using the time module.\n",
        "\n",
        ">> Here’s an example:\n",
        "\n"
      ],
      "metadata": {
        "id": "cmQdV6EkxO7_"
      }
    },
    {
      "cell_type": "code",
      "source": [
        "import time\n",
        "\n",
        "def timing_decorator(func):\n",
        "    def wrapper(*args, **kwargs):\n",
        "        start_time = time.time()  # Record the start time\n",
        "        result = func(*args, **kwargs)  # Call the original function\n",
        "        end_time = time.time()  # Record the end time\n",
        "        execution_time = end_time - start_time  # Calculate the execution time\n",
        "        print(f\"Execution time of {func.__name__}: {execution_time:.6f} seconds\")\n",
        "        return result  # Return the result of the original function\n",
        "    return wrapper\n",
        "\n",
        "# Example usage\n",
        "@timing_decorator\n",
        "def example_function(n):\n",
        "    total = 0\n",
        "    for i in range(n):\n",
        "        total += i\n",
        "    return total\n",
        "\n",
        "# Call the example function\n",
        "example_function(1000000)\n"
      ],
      "metadata": {
        "colab": {
          "base_uri": "https://localhost:8080/"
        },
        "id": "eMPdOSxMvgba",
        "outputId": "98550e05-8875-4bf7-8d2b-c232234f03e2"
      },
      "execution_count": null,
      "outputs": [
        {
          "output_type": "stream",
          "name": "stdout",
          "text": [
            "Execution time of example_function: 0.073310 seconds\n"
          ]
        },
        {
          "output_type": "execute_result",
          "data": {
            "text/plain": [
              "499999500000"
            ]
          },
          "metadata": {},
          "execution_count": 14
        }
      ]
    },
    {
      "cell_type": "markdown",
      "source": [
        ">> This code defines a timing_decorator that wraps around any function, measuring how long it takes to execute.\n",
        "\n",
        ">> When you decorate a function with @timing_decorator, it will print the execution time whenever the function is called."
      ],
      "metadata": {
        "id": "ulsAYQpPxY8l"
      }
    },
    {
      "cell_type": "markdown",
      "source": [
        "# Question 13"
      ],
      "metadata": {
        "id": "QqbUOBlAxfES"
      }
    },
    {
      "cell_type": "markdown",
      "source": [
        "## Explain the concept of the Diamond Problem in multiple inheritance. How does Python resolve it?"
      ],
      "metadata": {
        "id": "cm5bWaKhyDt1"
      }
    },
    {
      "cell_type": "markdown",
      "source": [
        ">> The Diamond Problem occurs in multiple inheritance when a class inherits from two classes that both inherit from a common superclass.\n",
        "\n",
        ">> This creates a \"diamond\" shape in the inheritance hierarchy.\n",
        "\n",
        ">> The problem arises when the subclass tries to access methods or properties of the common superclass, leading to ambiguity about which inherited method or property to use.\n",
        "\n",
        ">> Here's a simplified example:\n",
        "\n",
        "   "
      ],
      "metadata": {
        "id": "xAqRpo-RylG3"
      }
    },
    {
      "cell_type": "code",
      "source": [
        "     A\n",
        "    / \\\n",
        "   B   C\n",
        "    \\ /\n",
        "     D\n"
      ],
      "metadata": {
        "colab": {
          "base_uri": "https://localhost:8080/",
          "height": 108
        },
        "id": "EoV-NLaf6OX-",
        "outputId": "a24eb198-88d2-468f-bb32-d27af03634ab"
      },
      "execution_count": 16,
      "outputs": [
        {
          "output_type": "error",
          "ename": "IndentationError",
          "evalue": "unexpected indent (<ipython-input-16-5ce3194b1204>, line 2)",
          "traceback": [
            "\u001b[0;36m  File \u001b[0;32m\"<ipython-input-16-5ce3194b1204>\"\u001b[0;36m, line \u001b[0;32m2\u001b[0m\n\u001b[0;31m    (B, C)\u001b[0m\n\u001b[0m    ^\u001b[0m\n\u001b[0;31mIndentationError\u001b[0m\u001b[0;31m:\u001b[0m unexpected indent\n"
          ]
        }
      ]
    },
    {
      "cell_type": "markdown",
      "source": [
        "In this case:\n",
        "\n",
        ">> Class D inherits from both B and C.\n",
        "\n",
        ">> Both B and C inherit from A.\n",
        "\n",
        "When D calls a method from A, it could come from either B or C, creating ambiguity.\n",
        "\n",
        "\n"
      ],
      "metadata": {
        "id": "nZf1g8Vo6qYS"
      }
    },
    {
      "cell_type": "markdown",
      "source": [
        "### How Python Resolves It"
      ],
      "metadata": {
        "id": "epWVqGJW66x_"
      }
    },
    {
      "cell_type": "markdown",
      "source": [
        ">> Python uses a method resolution order (MRO) to determine the order in which base classes are searched when calling a method.\n",
        "\n",
        ">> Python employs the C3 linearization algorithm (also known as C3 superclass linearization) to create a consistent MRO that respects the hierarchy and the order of inheritance.\n",
        "\n",
        ">> You can view the MRO of a class using the __mro__ attribute or the mro() method:\n",
        "\n"
      ],
      "metadata": {
        "id": "Or00ynfK694m"
      }
    },
    {
      "cell_type": "code",
      "source": [
        "class A:\n",
        "    def method(self):\n",
        "        print(\"Method from A\")\n",
        "\n",
        "class B(A):\n",
        "    def method(self):\n",
        "        print(\"Method from B\")\n",
        "\n",
        "class C(A):\n",
        "    def method(self):\n",
        "        print(\"Method from C\")\n",
        "\n",
        "class D(B, C):\n",
        "    pass\n",
        "\n",
        "print(D.__mro__)\n",
        "# Output: (<class '__main__.D'>, <class '__main__.B'>, <class '__main__.C'>, <class '__main__.A'>, <class 'object'>)\n"
      ],
      "metadata": {
        "colab": {
          "base_uri": "https://localhost:8080/"
        },
        "id": "EWLiEziF6cs8",
        "outputId": "e763394b-2a27-46de-cc3c-753c290668aa"
      },
      "execution_count": 18,
      "outputs": [
        {
          "output_type": "stream",
          "name": "stdout",
          "text": [
            "(<class '__main__.D'>, <class '__main__.B'>, <class '__main__.C'>, <class '__main__.A'>, <class 'object'>)\n"
          ]
        }
      ]
    },
    {
      "cell_type": "markdown",
      "source": [
        ">> In this example, if D().method() is called, Python will follow the MRO and first look in B, then C, and finally A, resolving the ambiguity in a predictable way."
      ],
      "metadata": {
        "id": "7Tt5ArCY7KJx"
      }
    },
    {
      "cell_type": "markdown",
      "source": [
        "# Question 14"
      ],
      "metadata": {
        "id": "oSsvdNT_7Ohk"
      }
    },
    {
      "cell_type": "markdown",
      "source": [
        "## Write a class method that keeps track of the number of instances created from a class."
      ],
      "metadata": {
        "id": "mRyRDkZj7Qux"
      }
    },
    {
      "cell_type": "markdown",
      "source": [
        ">> You can achieve this by using a class variable that increments every time a new instance is created. Here's an example in Python:"
      ],
      "metadata": {
        "id": "w-ZgZbhhDnNb"
      }
    },
    {
      "cell_type": "code",
      "source": [
        "class InstanceCounter:\n",
        "    count = 0  # Class variable to keep track of the number of instances\n",
        "\n",
        "    def __init__(self):\n",
        "        InstanceCounter.count += 1  # Increment the count when a new instance is created\n",
        "\n",
        "    @classmethod\n",
        "    def get_instance_count(cls):\n",
        "        return cls.count  # Return the current count of instances\n",
        "\n",
        "# Example usage\n",
        "if __name__ == \"__main__\":\n",
        "    obj1 = InstanceCounter()\n",
        "    obj2 = InstanceCounter()\n",
        "    obj3 = InstanceCounter()\n",
        "\n",
        "    print(InstanceCounter.get_instance_count())  # Output: 3\n"
      ],
      "metadata": {
        "colab": {
          "base_uri": "https://localhost:8080/"
        },
        "id": "NGfAhgfQ7GmP",
        "outputId": "e1e92e49-4ad5-4202-850c-7abb879be784"
      },
      "execution_count": 19,
      "outputs": [
        {
          "output_type": "stream",
          "name": "stdout",
          "text": [
            "3\n"
          ]
        }
      ]
    },
    {
      "cell_type": "markdown",
      "source": [
        "In this code:\n",
        "\n",
        ">> count is a class variable that tracks the number of instances.\n",
        "\n",
        ">> The __init__ method increments the count whenever a new instance is created.\n",
        "\n",
        ">> The get_instance_count class method allows you to retrieve the current count of instances."
      ],
      "metadata": {
        "id": "Q85FcIdeDsX_"
      }
    },
    {
      "cell_type": "markdown",
      "source": [
        "# Question 15"
      ],
      "metadata": {
        "id": "1GJGXZviD1t7"
      }
    },
    {
      "cell_type": "markdown",
      "source": [
        "## Implement a static method in a class that checks if a given year is a leap year."
      ],
      "metadata": {
        "id": "Wx0OuLGwD4Qb"
      }
    },
    {
      "cell_type": "markdown",
      "source": [
        ">> Here's a simple implementation of a static method in a Python class that checks if a given year is a leap year:"
      ],
      "metadata": {
        "id": "H84g_hTkENeu"
      }
    },
    {
      "cell_type": "code",
      "source": [
        "class YearUtils:\n",
        "    @staticmethod\n",
        "    def is_leap_year(year):\n",
        "        \"\"\"Check if a given year is a leap year.\"\"\"\n",
        "        if (year % 4 == 0 and year % 100 != 0) or (year % 400 == 0):\n",
        "            return True\n",
        "        return False\n",
        "\n",
        "# Example usage:\n",
        "year = 2024\n",
        "if YearUtils.is_leap_year(year):\n",
        "    print(f\"{year} is a leap year.\")\n",
        "else:\n",
        "    print(f\"{year} is not a leap year.\")\n"
      ],
      "metadata": {
        "colab": {
          "base_uri": "https://localhost:8080/"
        },
        "id": "vwcBLHCZDpmq",
        "outputId": "2f11b1b8-8dac-447e-d6e5-356f2df51a95"
      },
      "execution_count": 20,
      "outputs": [
        {
          "output_type": "stream",
          "name": "stdout",
          "text": [
            "2024 is a leap year.\n"
          ]
        }
      ]
    },
    {
      "cell_type": "markdown",
      "source": [
        "### Explanation:"
      ],
      "metadata": {
        "id": "TqeVj3_eEXi1"
      }
    },
    {
      "cell_type": "markdown",
      "source": [
        "A year is a leap year if:\n",
        "\n",
        ">> It is divisible by 4.\n",
        "\n",
        ">> However, if it is divisible by 100, it is not a leap year unless it is also divisible by 400.\n",
        "\n",
        "The is_leap_year method implements this logic and returns True or False."
      ],
      "metadata": {
        "id": "rd0S5AN_EYyI"
      }
    },
    {
      "cell_type": "code",
      "source": [],
      "metadata": {
        "id": "NHge6JZAEQna"
      },
      "execution_count": null,
      "outputs": []
    }
  ]
}